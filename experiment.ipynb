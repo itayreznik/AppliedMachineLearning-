{
 "cells": [
  {
   "cell_type": "code",
   "execution_count": 1,
   "metadata": {
    "pycharm": {
     "name": "#%%\n"
    }
   },
   "outputs": [
    {
     "name": "stderr",
     "output_type": "stream",
     "text": [
      "/Users/itayreznik/opt/anaconda3/envs/aml22/lib/python3.9/site-packages/xgboost/compat.py:36: FutureWarning: pandas.Int64Index is deprecated and will be removed from pandas in a future version. Use pandas.Index with the appropriate dtype instead.\n",
      "  from pandas import MultiIndex, Int64Index\n"
     ]
    }
   ],
   "source": [
    "import matplotlib.pyplot as plt\n",
    "import numpy as np\n",
    "import optuna\n",
    "import pandas as pd\n",
    "from sklearn import linear_model, tree, ensemble\n",
    "from sklearn.decomposition import PCA\n",
    "from sklearn.model_selection import GridSearchCV\n",
    "from sklearn.preprocessing import StandardScaler\n",
    "from xgboost import XGBRegressor"
   ]
  },
  {
   "cell_type": "markdown",
   "metadata": {
    "pycharm": {
     "name": "#%% md\n"
    }
   },
   "source": [
    "### Data Analysis"
   ]
  },
  {
   "cell_type": "code",
   "execution_count": 21,
   "metadata": {
    "pycharm": {
     "name": "#%%\n"
    }
   },
   "outputs": [],
   "source": [
    "ds = pd.read_pickle('data/ass3.pickle')\n",
    "train, dev = ds['train'], ds['dev']\n",
    "train_features, train_targets = train\n",
    "dev_features, dev_targets = dev"
   ]
  },
  {
   "cell_type": "code",
   "execution_count": 4,
   "metadata": {
    "pycharm": {
     "name": "#%%\n"
    }
   },
   "outputs": [],
   "source": [
    "def analyze_data(features, targets):\n",
    "    feature_names = [f'f{i}' for i in range(features.shape[-1])]\n",
    "    print(f'number of samples: {features.shape[0]}')\n",
    "    print(f'number of features: {features.shape[-1]}')\n",
    "    print(f'feature names: \\n  {feature_names}')\n",
    "    print(f\"range of target: max:{targets.max()} , min:{targets.min()}\")\n",
    "    # classes = set(targets.values)\n",
    "    # print(f\"classes: \\n  {classes}\")\n",
    "    print(f'number of samples per class:')\n",
    "    # for class_name in classes:\n",
    "    # print(f\"  {class_name} {len(features[targets==class_name])}\")\n",
    "    ranges_for_features = list(zip(feature_names, features.min(axis=0), features.max(axis=0)))\n",
    "    print(f'ranges of features:')\n",
    "    for index, (name, min_val, max_val) in enumerate(ranges_for_features):\n",
    "        print(f'  {name} {min_val} - {max_val}\\t dtype: {features[index].dtype}')\n",
    "\n",
    "    print(f'mean: \\n{features.mean()}')\n",
    "    print(f'variance: \\n{features.var()}')"
   ]
  },
  {
   "cell_type": "markdown",
   "metadata": {
    "pycharm": {
     "name": "#%% md\n"
    }
   },
   "source": [
    "#### Perliminary analysis: train"
   ]
  },
  {
   "cell_type": "code",
   "execution_count": 6,
   "metadata": {
    "pycharm": {
     "name": "#%%\n"
    }
   },
   "outputs": [
    {
     "name": "stdout",
     "output_type": "stream",
     "text": [
      "number of samples: 48226\n",
      "number of features: 13\n",
      "feature names: \n",
      "  ['f0', 'f1', 'f2', 'f3', 'f4', 'f5', 'f6', 'f7', 'f8', 'f9', 'f10', 'f11', 'f12']\n",
      "range of target: max:39.58888888888889 , min:-21.822222222222226\n",
      "number of samples per class:\n",
      "ranges of features:\n",
      "  f0 0.0 - 26.0\t dtype: float64\n",
      "  f1 -1.0 - 1.0\t dtype: float64\n",
      "  f2 0.0 - 1.0\t dtype: float64\n",
      "  f3 0.0 - 55.9314\t dtype: float64\n",
      "  f4 0.0 - 359.0\t dtype: float64\n",
      "  f5 0.0 - 16.1\t dtype: float64\n",
      "  f6 0.0 - 0.0\t dtype: float64\n",
      "  f7 0.0 - 1046.26\t dtype: float64\n",
      "  f8 0.0 - 213.0\t dtype: float64\n",
      "  f9 1.0 - 31.0\t dtype: float64\n",
      "  f10 1.0 - 12.0\t dtype: float64\n",
      "  f11 2006.0 - 2016.0\t dtype: float64\n",
      "  f12 0.0 - 23.0\t dtype: float64\n",
      "mean: \n",
      "261.7853131566439\n",
      "variance: \n",
      "326289.30631842325\n"
     ]
    }
   ],
   "source": [
    "analyze_data(train_features, train_targets)"
   ]
  },
  {
   "cell_type": "markdown",
   "metadata": {
    "pycharm": {
     "name": "#%% md\n"
    }
   },
   "source": [
    "#### Perliminary analysis: dev"
   ]
  },
  {
   "cell_type": "code",
   "execution_count": 7,
   "metadata": {
    "pycharm": {
     "name": "#%%\n"
    }
   },
   "outputs": [
    {
     "name": "stdout",
     "output_type": "stream",
     "text": [
      "number of samples: 24114\n",
      "number of features: 13\n",
      "feature names: \n",
      "  ['f0', 'f1', 'f2', 'f3', 'f4', 'f5', 'f6', 'f7', 'f8', 'f9', 'f10', 'f11', 'f12']\n",
      "range of target: max:38.84444444444445 , min:-20.555555555555557\n",
      "number of samples per class:\n",
      "ranges of features:\n",
      "  f0 0.0 - 26.0\t dtype: float64\n",
      "  f1 -1.0 - 1.0\t dtype: float64\n",
      "  f2 0.0 - 1.0\t dtype: float64\n",
      "  f3 0.0 - 63.8526\t dtype: float64\n",
      "  f4 0.0 - 359.0\t dtype: float64\n",
      "  f5 0.0 - 16.1\t dtype: float64\n",
      "  f6 0.0 - 0.0\t dtype: float64\n",
      "  f7 0.0 - 1045.93\t dtype: float64\n",
      "  f8 0.0 - 213.0\t dtype: float64\n",
      "  f9 1.0 - 31.0\t dtype: float64\n",
      "  f10 1.0 - 12.0\t dtype: float64\n",
      "  f11 2006.0 - 2016.0\t dtype: float64\n",
      "  f12 0.0 - 23.0\t dtype: float64\n",
      "mean: \n",
      "261.5990626240103\n",
      "variance: \n",
      "326194.50242981524\n"
     ]
    }
   ],
   "source": [
    "analyze_data(dev_features, dev_targets)"
   ]
  },
  {
   "cell_type": "markdown",
   "metadata": {
    "pycharm": {
     "name": "#%% md\n"
    }
   },
   "source": [
    "#### Data Pre-processing and more analysis\n",
    "\n",
    "After analysis, we observe that the data is composed of real numbers, which suggests that the data points are drawn from a continuous distribution. This tells us that we are trying to solve a regression problem, which does not immediately make us think of a specific model that would work.\n",
    "\n",
    "Nevertheless, we will try to normalize the data and see if it improves the results."
   ]
  },
  {
   "cell_type": "code",
   "execution_count": 8,
   "metadata": {
    "pycharm": {
     "name": "#%%\n"
    }
   },
   "outputs": [
    {
     "data": {
      "image/png": "[encoded data removed]",
      "text/plain": [
       "<Figure size 432x288 with 1 Axes>"
      ]
     },
     "metadata": {
      "needs_background": "light"
     },
     "output_type": "display_data"
    }
   ],
   "source": [
    "plt.hist(train_targets, bins=100)\n",
    "plt.show()"
   ]
  },
  {
   "cell_type": "code",
   "execution_count": 9,
   "metadata": {
    "pycharm": {
     "name": "#%%\n"
    }
   },
   "outputs": [],
   "source": [
    "scaler = StandardScaler()\n",
    "normalized_train_features = scaler.fit_transform(train_features)\n",
    "normalized_dev_features = scaler.transform(dev_features)"
   ]
  },
  {
   "cell_type": "markdown",
   "metadata": {
    "pycharm": {
     "name": "#%% md\n"
    }
   },
   "source": [
    "We can perform PCA on the data and normalized data to analyze the separability of the main features."
   ]
  },
  {
   "cell_type": "code",
   "execution_count": 10,
   "metadata": {
    "pycharm": {
     "name": "#%%\n"
    }
   },
   "outputs": [
    {
     "data": {
      "image/png": "[encoded data removed]",
      "text/plain": [
       "<Figure size 432x288 with 1 Axes>"
      ]
     },
     "metadata": {
      "needs_background": "light"
     },
     "output_type": "display_data"
    },
    {
     "data": {
      "text/plain": [
       "<Figure size 600x600 with 0 Axes>"
      ]
     },
     "metadata": {},
     "output_type": "display_data"
    }
   ],
   "source": [
    "pca = PCA(n_components=1)\n",
    "trans_train_features = pca.fit_transform(train_features)\n",
    "plt.scatter(train_targets, *zip(*trans_train_features), cmap='Set2')\n",
    "plt.figure(figsize=(6, 6), dpi=100)\n",
    "plt.show()"
   ]
  },
  {
   "cell_type": "code",
   "execution_count": 11,
   "metadata": {
    "pycharm": {
     "name": "#%%\n"
    }
   },
   "outputs": [
    {
     "data": {
      "image/png": "[encoded data removed]",
      "text/plain": [
       "<Figure size 432x288 with 1 Axes>"
      ]
     },
     "metadata": {
      "needs_background": "light"
     },
     "output_type": "display_data"
    },
    {
     "data": {
      "text/plain": [
       "<Figure size 600x600 with 0 Axes>"
      ]
     },
     "metadata": {},
     "output_type": "display_data"
    }
   ],
   "source": [
    "pca = PCA(n_components=1)\n",
    "trans_train_features = pca.fit_transform(normalized_train_features)\n",
    "plt.scatter(train_targets, *zip(*trans_train_features), cmap='Set2')\n",
    "plt.figure(figsize=(6, 6), dpi=100)\n",
    "plt.show()"
   ]
  },
  {
   "cell_type": "markdown",
   "metadata": {
    "pycharm": {
     "name": "#%% md\n"
    }
   },
   "source": [
    "The data does not seem very separable, so we assume that the more naive models will fail, or at least will not do very well."
   ]
  },
  {
   "cell_type": "markdown",
   "metadata": {
    "pycharm": {
     "name": "#%% md\n"
    }
   },
   "source": [
    "## Experiments\n",
    "\n",
    "In the context of regression, there are many ways to measure the success of the model on the data, for example MAE, MSE and R2 scores. We choose the MAE score as it is more commonly used than R2 and a bit more robust than MSE."
   ]
  },
  {
   "cell_type": "code",
   "execution_count": 12,
   "metadata": {
    "pycharm": {
     "name": "#%%\n"
    }
   },
   "outputs": [],
   "source": [
    "def mae_score(model, features, targets):\n",
    "    preds = model.predict(features)\n",
    "    return np.mean(np.abs(preds - targets))\n"
   ]
  },
  {
   "cell_type": "markdown",
   "metadata": {},
   "source": [
    "We wanted to play around with scaling.\n",
    "So we trained a MinMaxScaler (which range is [0,1] or [-1,1] if there are negative values in the data) on the train target. Then we wrote another mae score function that gives us the mean absolute error that we would get, if our data was in the range of [-1,1].\n",
    "\n",
    "At the end of this document, we will calculate the error of our final model with this function also. "
   ]
  },
  {
   "cell_type": "code",
   "execution_count": 50,
   "metadata": {},
   "outputs": [],
   "source": [
    "from sklearn.preprocessing import MinMaxScaler\n",
    "scaler = MinMaxScaler()\n",
    "scaler.fit(train_targets[:,None],y=None)\n",
    "\n",
    "def mae_score_normalized(model, features, targets):\n",
    "    preds = model.predict(features)\n",
    "    target_normalized = scaler.transform(targets[:,None])\n",
    "    predicted_normalized = scaler.transform(preds[:,None])\n",
    "    return np.mean(np.abs(predicted_normalized - target_normalized))\n",
    "\n",
    "\n"
   ]
  },
  {
   "cell_type": "code",
   "execution_count": 52,
   "metadata": {},
   "outputs": [
    {
     "name": "stdout",
     "output_type": "stream",
     "text": [
      "(48226,)\n"
     ]
    }
   ],
   "source": [
    "print(train_targets.shape)"
   ]
  },
  {
   "cell_type": "markdown",
   "metadata": {
    "pycharm": {
     "name": "#%% md\n"
    }
   },
   "source": [
    "#### Basic model: Linear Regression\n",
    "Before we advance to more complicated models, let us first experiment on a basic models and see the results. In this case, the simplest basic model we can try is Linear Regression."
   ]
  },
  {
   "cell_type": "code",
   "execution_count": 14,
   "metadata": {
    "pycharm": {
     "name": "#%%\n"
    }
   },
   "outputs": [
    {
     "data": {
      "text/plain": [
       "4.785717287736162"
      ]
     },
     "execution_count": 14,
     "metadata": {},
     "output_type": "execute_result"
    }
   ],
   "source": [
    "lin_reg = linear_model.LinearRegression()\n",
    "lin_reg.fit(train_features, train_targets)\n",
    "mae_score(lin_reg, dev_features, dev_targets)"
   ]
  },
  {
   "cell_type": "markdown",
   "metadata": {
    "pycharm": {
     "name": "#%% md\n"
    }
   },
   "source": [
    "Since MAE (similar to other regression scores) does not have a meaning to us in the same sense that percentage does, we have to compare to other models in order to see how well our model did. Still, we expect more complicated models to work better Linear Regression."
   ]
  },
  {
   "cell_type": "markdown",
   "metadata": {
    "pycharm": {
     "name": "#%% md\n"
    }
   },
   "source": [
    "#### Decision Tree\n",
    "Now we want to try the more complicated models. We will start with a simple Decision Tree and test it's results out of the box. Then we will do some cross validation to try and tune the hyperparameters."
   ]
  },
  {
   "cell_type": "code",
   "execution_count": 15,
   "metadata": {
    "pycharm": {
     "name": "#%%\n"
    }
   },
   "outputs": [
    {
     "data": {
      "text/plain": [
       "1.846204371826417"
      ]
     },
     "execution_count": 15,
     "metadata": {},
     "output_type": "execute_result"
    }
   ],
   "source": [
    "decision_tree = tree.DecisionTreeRegressor(random_state=42)\n",
    "decision_tree.fit(train_features, train_targets)\n",
    "mae_score(decision_tree, dev_features, dev_targets)"
   ]
  },
  {
   "cell_type": "markdown",
   "metadata": {
    "pycharm": {
     "name": "#%% md\n"
    }
   },
   "source": [
    "Out of the box, the Decision Tree works better than the basic model, much better. We can try feature selection and cross validation to get better results. First we try feature selection alone, then we try it with cross validaton."
   ]
  },
  {
   "cell_type": "code",
   "execution_count": 16,
   "metadata": {
    "pycharm": {
     "name": "#%%\n"
    }
   },
   "outputs": [
    {
     "data": {
      "text/plain": [
       "1.8565658798824305"
      ]
     },
     "execution_count": 16,
     "metadata": {},
     "output_type": "execute_result"
    }
   ],
   "source": [
    "parameters = {\n",
    "    'max_depth': [5, 10, 20, 30, 50],\n",
    "    'min_samples_split': [2, 3, 4],\n",
    "    'min_samples_leaf': [1, 2, 3],\n",
    "}\n",
    "\n",
    "dt = tree.DecisionTreeRegressor(random_state=42)\n",
    "\n",
    "clf = GridSearchCV(dt, parameters)\n",
    "clf.fit(train_features, train_targets)\n",
    "mae_score(clf, dev_features, dev_targets)"
   ]
  },
  {
   "cell_type": "markdown",
   "metadata": {
    "pycharm": {
     "name": "#%% md\n"
    }
   },
   "source": [
    "We could not find better parameters with our grid search and cross validation, in fact results are worse, but not much worse. This suggests that the model is quite robust to different hyperparmeteres, but maybe we can do better with other models."
   ]
  },
  {
   "cell_type": "markdown",
   "metadata": {
    "pycharm": {
     "name": "#%% md\n"
    }
   },
   "source": [
    "#### Random Forest\n",
    "The Decision tree works better than the simple models, which aligns with our initial thoughts. This bares the question, would a random forest do better? If so, how much better and for what cost of training time."
   ]
  },
  {
   "cell_type": "code",
   "execution_count": 49,
   "metadata": {
    "pycharm": {
     "name": "#%%\n"
    }
   },
   "outputs": [
    {
     "data": {
      "text/plain": [
       "1.4047712785564863"
      ]
     },
     "execution_count": 49,
     "metadata": {},
     "output_type": "execute_result"
    }
   ],
   "source": [
    "random_forest = ensemble.RandomForestRegressor(n_estimators=100, random_state=42)\n",
    "\n",
    "random_forest.fit(train_features, train_targets)\n",
    "mae_score(random_forest, dev_features, dev_targets)"
   ]
  },
  {
   "cell_type": "markdown",
   "metadata": {
    "pycharm": {
     "name": "#%% md\n"
    }
   },
   "source": [
    "Again, out of the box results are better than previous model, but training time is very long, so we might prefer other models that work faster.\n",
    "\n",
    "Still, we should try cross validation to improve the Random Forest and see what is our current best score, to be beaten by the following models."
   ]
  },
  {
   "cell_type": "code",
   "execution_count": 50,
   "metadata": {
    "pycharm": {
     "name": "#%%\n"
    }
   },
   "outputs": [
    {
     "data": {
      "text/plain": [
       "1.4186451152726691"
      ]
     },
     "execution_count": 50,
     "metadata": {},
     "output_type": "execute_result"
    }
   ],
   "source": [
    "parameters = {\n",
    "    'max_depth': [5, 10, 20],\n",
    "    'min_samples_split': [2],\n",
    "    'min_samples_leaf': [1],\n",
    "}\n",
    "\n",
    "rf = ensemble.RandomForestRegressor(random_state=42)\n",
    "\n",
    "clf = GridSearchCV(rf, parameters)\n",
    "clf.fit(train_features, train_targets)\n",
    "mae_score(clf, dev_features, dev_targets)"
   ]
  },
  {
   "cell_type": "markdown",
   "metadata": {
    "pycharm": {
     "name": "#%% md\n"
    }
   },
   "source": [
    "#### Adaptive Boosting with Random Forest\n",
    "\n",
    "Using cross validation did not improve the model, but we have a current baseline to try and improve on. We can try Adaptive Boosting to improve on it."
   ]
  },
  {
   "cell_type": "code",
   "execution_count": 17,
   "metadata": {
    "pycharm": {
     "name": "#%%\n"
    }
   },
   "outputs": [
    {
     "data": {
      "text/plain": [
       "3.538248101408444"
      ]
     },
     "execution_count": 17,
     "metadata": {},
     "output_type": "execute_result"
    }
   ],
   "source": [
    "ada_boost = ensemble.AdaBoostRegressor(random_state=42, learning_rate=0.2)\n",
    "\n",
    "ada_boost.fit(train_features, train_targets)\n",
    "mae_score(ada_boost, dev_features, dev_targets)"
   ]
  },
  {
   "cell_type": "markdown",
   "metadata": {
    "pycharm": {
     "name": "#%% md\n"
    }
   },
   "source": [
    "Immediately we see that the AdaBoost results are poor in comparison to the regular Random Forest. We can try some cross validation, but we don't expect it to improve the results to the point of beating the Random Forest baseline."
   ]
  },
  {
   "cell_type": "code",
   "execution_count": 25,
   "metadata": {
    "pycharm": {
     "name": "#%%\n"
    }
   },
   "outputs": [
    {
     "data": {
      "text/plain": [
       "3.4127513169545263"
      ]
     },
     "execution_count": 25,
     "metadata": {},
     "output_type": "execute_result"
    }
   ],
   "source": [
    "parameters = {\n",
    "    'n_estimators': [50, 70, 100],\n",
    "    'learning_rate': [0.01, 0.1, 0.2]\n",
    "}\n",
    "\n",
    "best_ab = None\n",
    "best_score = 0.\n",
    "best_params = ()\n",
    "\n",
    "ab = ensemble.AdaBoostRegressor(random_state=42)\n",
    "\n",
    "clf = GridSearchCV(ab, parameters)\n",
    "clf.fit(train_features, train_targets)\n",
    "mae_score(clf, dev_features, dev_targets)"
   ]
  },
  {
   "cell_type": "markdown",
   "metadata": {
    "pycharm": {
     "name": "#%% md\n"
    }
   },
   "source": [
    "The results are a bit better, but still much worse than the Random Forest, as we expected."
   ]
  },
  {
   "cell_type": "markdown",
   "metadata": {
    "pycharm": {
     "name": "#%% md\n"
    }
   },
   "source": [
    "#### Gradient Boosting\n",
    "\n",
    "Adaptive boosting worked poorly on this dataset, but we can still try Gradient Boosting to see how well it does. We try the default params and then cross validation to get the best model."
   ]
  },
  {
   "cell_type": "code",
   "execution_count": 24,
   "metadata": {
    "pycharm": {
     "name": "#%%\n"
    }
   },
   "outputs": [
    {
     "data": {
      "text/plain": [
       "2.3944055837685854"
      ]
     },
     "execution_count": 24,
     "metadata": {},
     "output_type": "execute_result"
    }
   ],
   "source": [
    "gb = ensemble.GradientBoostingRegressor()\n",
    "gb.fit(train_features, train_targets)\n",
    "mae_score(gb, dev_features, dev_targets)"
   ]
  },
  {
   "cell_type": "code",
   "execution_count": null,
   "metadata": {
    "pycharm": {
     "is_executing": true,
     "name": "#%%\n"
    }
   },
   "outputs": [],
   "source": [
    "parameters = {\n",
    "    'n_estimators': [100],\n",
    "    'learning_rate': [0.1, 0.11, 0.09],\n",
    "    'max_depth': [100],\n",
    "    'min_samples_split': [2],\n",
    "    'min_samples_leaf': [1]\n",
    "}\n",
    "\n",
    "gb = ensemble.GradientBoostingRegressor(random_state=42)\n",
    "\n",
    "clf = GridSearchCV(gb, parameters)\n",
    "clf.fit(train_features, train_targets)\n",
    "mae_score(clf, dev_features, dev_targets)"
   ]
  },
  {
   "cell_type": "markdown",
   "metadata": {
    "pycharm": {
     "name": "#%% md\n"
    }
   },
   "source": [
    "The results of Gradient boosting are better than AdaBoost, but still worse than random forest. Cross validation improved on them, but not enough to beat the baseline."
   ]
  },
  {
   "cell_type": "markdown",
   "metadata": {
    "pycharm": {
     "name": "#%% md\n"
    }
   },
   "source": [
    "#### XGBoost\n",
    "\n",
    "XGBoost is known to produce state-of-the-art results on a variety of datasets. Thus, we wish to assess its effectiveness on our dataset, again first on default params."
   ]
  },
  {
   "cell_type": "code",
   "execution_count": 28,
   "metadata": {
    "pycharm": {
     "name": "#%%\n"
    }
   },
   "outputs": [
    {
     "data": {
      "text/plain": [
       "1.6626661964272615"
      ]
     },
     "execution_count": 28,
     "metadata": {},
     "output_type": "execute_result"
    }
   ],
   "source": [
    "xgb = XGBRegressor()\n",
    "xgb.fit(train_features, train_targets)\n",
    "mae_score(xgb, dev_features, dev_targets)"
   ]
  },
  {
   "cell_type": "markdown",
   "metadata": {
    "pycharm": {
     "name": "#%% md\n"
    }
   },
   "source": [
    "Immediately, the results look close to comparable with the baseline, and we know that XGBoost is sensitive to hyperparameters, which it has quite a few of.\n",
    "\n",
    "Since there are many hyperparmeters to select, we try a different method of checking. We use the package Optuna to find the best combination of hyperparameters for XGBoost."
   ]
  },
  {
   "cell_type": "code",
   "execution_count": 31,
   "metadata": {
    "pycharm": {
     "name": "#%%\n"
    }
   },
   "outputs": [],
   "source": [
    "def objective(trial):\n",
    "    train_x, train_y, valid_x, valid_y = train_features, train_targets, dev_features, dev_targets\n",
    "    param = {\n",
    "        \"verbosity\": 0,\n",
    "        # # defines booster, gblinear for linear functions.\n",
    "        \"booster\": 'gbtree',\n",
    "        # L2 regularization weight.\n",
    "        \"lambda\": trial.suggest_float(\"lambda\", 1e-8, 1.0, log=True),\n",
    "        # L1 regularization weight.\n",
    "        # \"alpha\": trial.suggest_float(\"alpha\", 1e-8, 1.0, log=True),\n",
    "        # # sampling ratio for training data.\n",
    "        # \"subsample\": trial.suggest_float(\"subsample\", 0.2, 1.0),\n",
    "        # sampling according to each tree.\n",
    "        # \"colsample_bytree\": trial.suggest_float(\"colsample_bytree\", 0.2, 1.0),\n",
    "        \"learning_rate\": trial.suggest_float(\"learning_rate\", 1e-3, 0.2),\n",
    "    }\n",
    "\n",
    "    if param[\"booster\"] in [\"gbtree\", \"dart\"]:\n",
    "        # maximum depth of the tree, signifies complexity of the tree.\n",
    "        param[\"max_depth\"] = trial.suggest_int(\"max_depth\", 3, 29, step=1)\n",
    "        # # minimum child weight, larger the term more conservative the tree.\n",
    "        # param[\"min_child_weight\"] = trial.suggest_int(\"min_child_weight\", 2, 19)\n",
    "        # param[\"eta\"] = trial.suggest_float(\"eta\", 1e-8, 1.0, log=True)\n",
    "        # defines how selective algorithm is.\n",
    "        param[\"gamma\"] = trial.suggest_float(\"gamma\", 1, 10.0, log=True)\n",
    "        # param[\"grow_policy\"] = trial.suggest_categorical(\"grow_policy\", [\"depthwise\", \"lossguide\"])\n",
    "\n",
    "    # if param[\"booster\"] == \"dart\":\n",
    "    #     param[\"sample_type\"] = trial.suggest_categorical(\"sample_type\", [\"uniform\", \"weighted\"])\n",
    "    #     param[\"normalize_type\"] = trial.suggest_categorical(\"normalize_type\", [\"tree\", \"forest\"])\n",
    "    #     param[\"rate_drop\"] = trial.suggest_float(\"rate_drop\", 1e-8, 1.0, log=True)\n",
    "    #     param[\"skip_drop\"] = trial.suggest_float(\"skip_drop\", 1e-8, 1.0, log=True)\n",
    "\n",
    "    xgb = XGBRegressor(**param)\n",
    "    xgb.fit(train_x, train_y)\n",
    "    accuracy = mae_score(xgb, dev_features, dev_targets)\n",
    "    return accuracy"
   ]
  },
  {
   "cell_type": "code",
   "execution_count": 33,
   "metadata": {
    "pycharm": {
     "name": "#%%\n"
    }
   },
   "outputs": [
    {
     "name": "stderr",
     "output_type": "stream",
     "text": [
      "\u001b[32m[I 2022-06-29 17:26:30,856]\u001b[0m A new study created in memory with name: no-name-2343af0e-160f-41e2-912a-611253299aa1\u001b[0m\n",
      "\u001b[32m[I 2022-06-29 17:26:37,369]\u001b[0m Trial 0 finished with value: 1.2167576615399744 and parameters: {'lambda': 0.0001429443001903382, 'learning_rate': 0.13098938017365075, 'max_depth': 13, 'gamma': 1.193194656320468}. Best is trial 0 with value: 1.2167576615399744.\u001b[0m\n",
      "\u001b[32m[I 2022-06-29 17:26:44,005]\u001b[0m Trial 1 finished with value: 1.2717908238274127 and parameters: {'lambda': 2.570882677012224e-07, 'learning_rate': 0.19428726921362308, 'max_depth': 14, 'gamma': 3.1887936586378394}. Best is trial 0 with value: 1.2167576615399744.\u001b[0m\n",
      "\u001b[32m[I 2022-06-29 17:26:52,009]\u001b[0m Trial 2 finished with value: 1.241437341377925 and parameters: {'lambda': 0.14808026837669389, 'learning_rate': 0.12684666779366738, 'max_depth': 15, 'gamma': 2.5440393974745423}. Best is trial 0 with value: 1.2167576615399744.\u001b[0m\n",
      "\u001b[32m[I 2022-06-29 17:26:53,616]\u001b[0m Trial 3 finished with value: 1.960102873107053 and parameters: {'lambda': 0.43651093731569957, 'learning_rate': 0.16266166860333423, 'max_depth': 5, 'gamma': 9.938635494312145}. Best is trial 0 with value: 1.2167576615399744.\u001b[0m\n",
      "\u001b[32m[I 2022-06-29 17:27:12,636]\u001b[0m Trial 4 finished with value: 1.461395973927052 and parameters: {'lambda': 9.566510675522233e-07, 'learning_rate': 0.049987295961318415, 'max_depth': 21, 'gamma': 1.3821794147782782}. Best is trial 0 with value: 1.2167576615399744.\u001b[0m\n",
      "\u001b[32m[I 2022-06-29 17:27:23,576]\u001b[0m Trial 5 finished with value: 10.729114006765407 and parameters: {'lambda': 0.7799347796219459, 'learning_rate': 0.0014074323012094752, 'max_depth': 22, 'gamma': 4.563260242392244}. Best is trial 0 with value: 1.2167576615399744.\u001b[0m\n",
      "\u001b[32m[I 2022-06-29 17:27:40,827]\u001b[0m Trial 6 finished with value: 2.1178962473991105 and parameters: {'lambda': 0.018106227164735207, 'learning_rate': 0.020632971690184333, 'max_depth': 23, 'gamma': 3.9171502081003333}. Best is trial 0 with value: 1.2167576615399744.\u001b[0m\n",
      "\u001b[32m[I 2022-06-29 17:27:45,843]\u001b[0m Trial 7 finished with value: 1.3489260376539411 and parameters: {'lambda': 0.00014018234710167686, 'learning_rate': 0.09711986480476563, 'max_depth': 10, 'gamma': 5.349944544321109}. Best is trial 0 with value: 1.2167576615399744.\u001b[0m\n",
      "\u001b[32m[I 2022-06-29 17:28:15,194]\u001b[0m Trial 8 finished with value: 1.366235163219721 and parameters: {'lambda': 9.771707709694824e-06, 'learning_rate': 0.06175727711689814, 'max_depth': 25, 'gamma': 9.913239716752535}. Best is trial 0 with value: 1.2167576615399744.\u001b[0m\n",
      "\u001b[32m[I 2022-06-29 17:28:42,726]\u001b[0m Trial 9 finished with value: 2.5711903203596096 and parameters: {'lambda': 6.671600966774649e-07, 'learning_rate': 0.017381699089869813, 'max_depth': 25, 'gamma': 7.427830363072732}. Best is trial 0 with value: 1.2167576615399744.\u001b[0m\n",
      "\u001b[32m[I 2022-06-29 17:28:44,384]\u001b[0m Trial 10 finished with value: 2.3440947627215922 and parameters: {'lambda': 0.0007220830557788302, 'learning_rate': 0.12608310093572803, 'max_depth': 3, 'gamma': 1.0432882725771464}. Best is trial 0 with value: 1.2167576615399744.\u001b[0m\n",
      "\u001b[32m[I 2022-06-29 17:28:54,666]\u001b[0m Trial 11 finished with value: 1.3053803771005543 and parameters: {'lambda': 0.002902842171630312, 'learning_rate': 0.12822475619962653, 'max_depth': 16, 'gamma': 2.126405429877463}. Best is trial 0 with value: 1.2167576615399744.\u001b[0m\n",
      "\u001b[32m[I 2022-06-29 17:29:00,255]\u001b[0m Trial 12 finished with value: 1.2142861709044082 and parameters: {'lambda': 0.024203374309481294, 'learning_rate': 0.11119958023394073, 'max_depth': 11, 'gamma': 1.69444968041198}. Best is trial 12 with value: 1.2142861709044082.\u001b[0m\n",
      "\u001b[32m[I 2022-06-29 17:29:04,869]\u001b[0m Trial 13 finished with value: 1.3436436895434207 and parameters: {'lambda': 4.518761575899285e-05, 'learning_rate': 0.09065576012620714, 'max_depth': 10, 'gamma': 1.706485721454338}. Best is trial 12 with value: 1.2142861709044082.\u001b[0m\n",
      "\u001b[32m[I 2022-06-29 17:29:10,234]\u001b[0m Trial 14 finished with value: 1.2648674981265329 and parameters: {'lambda': 0.012431108565854762, 'learning_rate': 0.1576393769782261, 'max_depth': 10, 'gamma': 1.11832464747386}. Best is trial 12 with value: 1.2142861709044082.\u001b[0m\n",
      "\u001b[32m[I 2022-06-29 17:29:14,001]\u001b[0m Trial 15 finished with value: 1.8227301134997362 and parameters: {'lambda': 2.997067139277183e-08, 'learning_rate': 0.07257560992500794, 'max_depth': 7, 'gamma': 1.7338474075930113}. Best is trial 12 with value: 1.2142861709044082.\u001b[0m\n",
      "\u001b[32m[I 2022-06-29 17:29:31,244]\u001b[0m Trial 16 finished with value: 1.4041537590701758 and parameters: {'lambda': 0.00042799391336156893, 'learning_rate': 0.1600986723958951, 'max_depth': 19, 'gamma': 1.4260709876595645}. Best is trial 12 with value: 1.2142861709044082.\u001b[0m\n",
      "\u001b[32m[I 2022-06-29 17:30:08,459]\u001b[0m Trial 17 finished with value: 1.4210645159491377 and parameters: {'lambda': 1.0726968973571967e-05, 'learning_rate': 0.1132960693135436, 'max_depth': 29, 'gamma': 2.3109309308512263}. Best is trial 12 with value: 1.2142861709044082.\u001b[0m\n",
      "\u001b[32m[I 2022-06-29 17:30:21,205]\u001b[0m Trial 18 finished with value: 1.2348564732336005 and parameters: {'lambda': 0.037568630758975596, 'learning_rate': 0.19801572616636884, 'max_depth': 13, 'gamma': 1.2994601027634842}. Best is trial 12 with value: 1.2142861709044082.\u001b[0m\n",
      "\u001b[32m[I 2022-06-29 17:30:41,571]\u001b[0m Trial 19 finished with value: 1.3732690574155533 and parameters: {'lambda': 0.0019631625270183843, 'learning_rate': 0.15047840276214217, 'max_depth': 18, 'gamma': 1.7989977153122307}. Best is trial 12 with value: 1.2142861709044082.\u001b[0m\n",
      "\u001b[32m[I 2022-06-29 17:30:47,934]\u001b[0m Trial 20 finished with value: 1.6421904563662981 and parameters: {'lambda': 2.9555154787773186e-05, 'learning_rate': 0.08590949286079064, 'max_depth': 8, 'gamma': 2.883255328300842}. Best is trial 12 with value: 1.2142861709044082.\u001b[0m\n",
      "\u001b[32m[I 2022-06-29 17:30:58,381]\u001b[0m Trial 21 finished with value: 1.2249353354123982 and parameters: {'lambda': 0.02662254094940487, 'learning_rate': 0.1957586554077767, 'max_depth': 12, 'gamma': 1.3555238084766477}. Best is trial 12 with value: 1.2142861709044082.\u001b[0m\n",
      "\u001b[32m[I 2022-06-29 17:31:09,016]\u001b[0m Trial 22 finished with value: 1.1935458398815102 and parameters: {'lambda': 0.09491255433060772, 'learning_rate': 0.1822696590016923, 'max_depth': 12, 'gamma': 1.011728405162327}. Best is trial 22 with value: 1.1935458398815102.\u001b[0m\n",
      "\u001b[32m[I 2022-06-29 17:31:17,979]\u001b[0m Trial 23 finished with value: 1.2097793913309414 and parameters: {'lambda': 0.10471730241221146, 'learning_rate': 0.1762731223910025, 'max_depth': 11, 'gamma': 1.002299935933473}. Best is trial 22 with value: 1.1935458398815102.\u001b[0m\n",
      "\u001b[32m[I 2022-06-29 17:31:22,135]\u001b[0m Trial 24 finished with value: 1.4412358903195648 and parameters: {'lambda': 0.1845798346232195, 'learning_rate': 0.1758768503816985, 'max_depth': 8, 'gamma': 1.036574129474741}. Best is trial 22 with value: 1.1935458398815102.\u001b[0m\n",
      "\u001b[32m[I 2022-06-29 17:31:28,406]\u001b[0m Trial 25 finished with value: 1.2243892897615407 and parameters: {'lambda': 0.07493303535885198, 'learning_rate': 0.1823946143415821, 'max_depth': 11, 'gamma': 1.592171905965111}. Best is trial 22 with value: 1.1935458398815102.\u001b[0m\n",
      "\u001b[32m[I 2022-06-29 17:31:43,888]\u001b[0m Trial 26 finished with value: 1.3364070911635197 and parameters: {'lambda': 0.005385821460030562, 'learning_rate': 0.14613845703513928, 'max_depth': 17, 'gamma': 1.9822060934833627}. Best is trial 22 with value: 1.1935458398815102.\u001b[0m\n",
      "\u001b[32m[I 2022-06-29 17:31:46,920]\u001b[0m Trial 27 finished with value: 1.8858142851555824 and parameters: {'lambda': 0.6130874084969681, 'learning_rate': 0.11186479636684056, 'max_depth': 6, 'gamma': 1.016747103394904}. Best is trial 22 with value: 1.1935458398815102.\u001b[0m\n",
      "\u001b[32m[I 2022-06-29 17:31:57,847]\u001b[0m Trial 28 finished with value: 1.2447333835537728 and parameters: {'lambda': 0.1332201310026501, 'learning_rate': 0.17567286835107948, 'max_depth': 15, 'gamma': 1.5313335364291263}. Best is trial 22 with value: 1.1935458398815102.\u001b[0m\n",
      "\u001b[32m[I 2022-06-29 17:32:07,059]\u001b[0m Trial 29 finished with value: 1.218924362362135 and parameters: {'lambda': 0.008223068949604371, 'learning_rate': 0.13854238363919674, 'max_depth': 13, 'gamma': 1.230297384390349}. Best is trial 22 with value: 1.1935458398815102.\u001b[0m\n",
      "\u001b[32m[I 2022-06-29 17:32:08,378]\u001b[0m Trial 30 finished with value: 2.1002047997187727 and parameters: {'lambda': 0.0008642516510719945, 'learning_rate': 0.1709900427866523, 'max_depth': 4, 'gamma': 1.1786620631325553}. Best is trial 22 with value: 1.1935458398815102.\u001b[0m\n",
      "\u001b[32m[I 2022-06-29 17:32:18,531]\u001b[0m Trial 31 finished with value: 1.2007507632664776 and parameters: {'lambda': 0.06099794631354212, 'learning_rate': 0.11055662119471459, 'max_depth': 13, 'gamma': 1.2122898389901504}. Best is trial 22 with value: 1.1935458398815102.\u001b[0m\n",
      "\u001b[32m[I 2022-06-29 17:32:25,763]\u001b[0m Trial 32 finished with value: 1.4200248200341146 and parameters: {'lambda': 0.04806488782022864, 'learning_rate': 0.11312041388650164, 'max_depth': 9, 'gamma': 1.1979301803315754}. Best is trial 22 with value: 1.1935458398815102.\u001b[0m\n",
      "\u001b[32m[I 2022-06-29 17:32:34,856]\u001b[0m Trial 33 finished with value: 1.19456549610065 and parameters: {'lambda': 0.24725866923052164, 'learning_rate': 0.18396736228197907, 'max_depth': 12, 'gamma': 1.2184379296318169}. Best is trial 22 with value: 1.1935458398815102.\u001b[0m\n",
      "\u001b[32m[I 2022-06-29 17:32:47,203]\u001b[0m Trial 34 finished with value: 1.2262853231597706 and parameters: {'lambda': 0.23919942784198914, 'learning_rate': 0.18649470512959251, 'max_depth': 14, 'gamma': 1.199816400651477}. Best is trial 22 with value: 1.1935458398815102.\u001b[0m\n",
      "\u001b[32m[I 2022-06-29 17:32:58,485]\u001b[0m Trial 35 finished with value: 1.23644953636608 and parameters: {'lambda': 0.3000763174355098, 'learning_rate': 0.1874701050418796, 'max_depth': 15, 'gamma': 1.0229749505148746}. Best is trial 22 with value: 1.1935458398815102.\u001b[0m\n",
      "\u001b[32m[I 2022-06-29 17:33:06,675]\u001b[0m Trial 36 finished with value: 1.1881902572107537 and parameters: {'lambda': 0.09733862788536392, 'learning_rate': 0.1689811103243059, 'max_depth': 12, 'gamma': 1.4468670258385035}. Best is trial 36 with value: 1.1881902572107537.\u001b[0m\n",
      "\u001b[32m[I 2022-06-29 17:33:13,565]\u001b[0m Trial 37 finished with value: 1.2019554436240778 and parameters: {'lambda': 0.5909391051623438, 'learning_rate': 0.16455170948457223, 'max_depth': 13, 'gamma': 1.4497921776213338}. Best is trial 36 with value: 1.1881902572107537.\u001b[0m\n",
      "\u001b[32m[I 2022-06-29 17:33:26,549]\u001b[0m Trial 38 finished with value: 1.2181688178149568 and parameters: {'lambda': 0.8993615990778694, 'learning_rate': 0.1423331537170168, 'max_depth': 17, 'gamma': 2.724529165108983}. Best is trial 36 with value: 1.1881902572107537.\u001b[0m\n",
      "\u001b[32m[I 2022-06-29 17:33:48,650]\u001b[0m Trial 39 finished with value: 1.4064473389332346 and parameters: {'lambda': 0.004038567744772486, 'learning_rate': 0.048182300520288816, 'max_depth': 20, 'gamma': 3.5564542590849517}. Best is trial 36 with value: 1.1881902572107537.\u001b[0m\n",
      "\u001b[32m[I 2022-06-29 17:34:01,283]\u001b[0m Trial 40 finished with value: 1.2442027390845463 and parameters: {'lambda': 0.06929766952288692, 'learning_rate': 0.1989139526692163, 'max_depth': 14, 'gamma': 1.9209139728899032}. Best is trial 36 with value: 1.1881902572107537.\u001b[0m\n",
      "\u001b[32m[I 2022-06-29 17:34:11,786]\u001b[0m Trial 41 finished with value: 1.1988003431676406 and parameters: {'lambda': 0.3952875643981122, 'learning_rate': 0.1655352541505546, 'max_depth': 12, 'gamma': 1.431376692786211}. Best is trial 36 with value: 1.1881902572107537.\u001b[0m\n",
      "\u001b[32m[I 2022-06-29 17:34:19,832]\u001b[0m Trial 42 finished with value: 1.191745303889841 and parameters: {'lambda': 0.25920913270664786, 'learning_rate': 0.15133964640228778, 'max_depth': 12, 'gamma': 1.3452199253308326}. Best is trial 36 with value: 1.1881902572107537.\u001b[0m\n",
      "\u001b[32m[I 2022-06-29 17:34:28,071]\u001b[0m Trial 43 finished with value: 1.1876580227050566 and parameters: {'lambda': 0.3140518499607837, 'learning_rate': 0.16650289975903618, 'max_depth': 12, 'gamma': 1.3618510968686814}. Best is trial 43 with value: 1.1876580227050566.\u001b[0m\n",
      "\u001b[32m[I 2022-06-29 17:34:32,999]\u001b[0m Trial 44 finished with value: 1.3448936447886903 and parameters: {'lambda': 0.19322876042657033, 'learning_rate': 0.1518039218605088, 'max_depth': 9, 'gamma': 2.2212963866678295}. Best is trial 43 with value: 1.1876580227050566.\u001b[0m\n",
      "\u001b[32m[I 2022-06-29 17:34:43,384]\u001b[0m Trial 45 finished with value: 1.2129358944661492 and parameters: {'lambda': 0.9794443421567017, 'learning_rate': 0.18381002198847796, 'max_depth': 16, 'gamma': 1.579508523101971}. Best is trial 43 with value: 1.1876580227050566.\u001b[0m\n",
      "\u001b[32m[I 2022-06-29 17:34:50,921]\u001b[0m Trial 46 finished with value: 1.2061017442296407 and parameters: {'lambda': 0.013765009982256878, 'learning_rate': 0.13713695972299322, 'max_depth': 12, 'gamma': 1.3132666253764107}. Best is trial 43 with value: 1.1876580227050566.\u001b[0m\n",
      "\u001b[32m[I 2022-06-29 17:34:58,432]\u001b[0m Trial 47 finished with value: 1.3797609987416517 and parameters: {'lambda': 0.2976476677554064, 'learning_rate': 0.16823022181581934, 'max_depth': 9, 'gamma': 5.273523754591787}. Best is trial 43 with value: 1.1876580227050566.\u001b[0m\n",
      "\u001b[32m[I 2022-06-29 17:35:04,835]\u001b[0m Trial 48 finished with value: 1.1961045786849913 and parameters: {'lambda': 0.02797657536077706, 'learning_rate': 0.1554058796419371, 'max_depth': 11, 'gamma': 1.1304447579087111}. Best is trial 43 with value: 1.1876580227050566.\u001b[0m\n",
      "\u001b[32m[I 2022-06-29 17:35:09,868]\u001b[0m Trial 49 finished with value: 1.6172512096113354 and parameters: {'lambda': 0.14110893789364093, 'learning_rate': 0.1898297798335579, 'max_depth': 7, 'gamma': 2.4531124832864646}. Best is trial 43 with value: 1.1876580227050566.\u001b[0m\n",
      "\u001b[32m[I 2022-06-29 17:35:20,887]\u001b[0m Trial 50 finished with value: 1.2782166283510823 and parameters: {'lambda': 0.010428774498055102, 'learning_rate': 0.17822897718736874, 'max_depth': 15, 'gamma': 1.9731872458207227}. Best is trial 43 with value: 1.1876580227050566.\u001b[0m\n",
      "\u001b[32m[I 2022-06-29 17:35:30,759]\u001b[0m Trial 51 finished with value: 1.1758238181022274 and parameters: {'lambda': 0.02202645400480881, 'learning_rate': 0.15980545084240536, 'max_depth': 11, 'gamma': 1.091827352641474}. Best is trial 51 with value: 1.1758238181022274.\u001b[0m\n",
      "\u001b[32m[I 2022-06-29 17:35:38,723]\u001b[0m Trial 52 finished with value: 1.2430094273744832 and parameters: {'lambda': 0.4234731399609829, 'learning_rate': 0.16084702707975923, 'max_depth': 10, 'gamma': 1.0966993803620753}. Best is trial 51 with value: 1.1758238181022274.\u001b[0m\n",
      "\u001b[32m[I 2022-06-29 17:35:48,641]\u001b[0m Trial 53 finished with value: 1.188785094106099 and parameters: {'lambda': 0.07648016793236362, 'learning_rate': 0.16940631493205166, 'max_depth': 12, 'gamma': 1.4938851691510109}. Best is trial 51 with value: 1.1758238181022274.\u001b[0m\n",
      "\u001b[32m[I 2022-06-29 17:36:01,810]\u001b[0m Trial 54 finished with value: 1.2271318521164896 and parameters: {'lambda': 0.030436482029283694, 'learning_rate': 0.13071118146420174, 'max_depth': 14, 'gamma': 1.3402705993198316}. Best is trial 51 with value: 1.1758238181022274.\u001b[0m\n",
      "\u001b[32m[I 2022-06-29 17:36:07,376]\u001b[0m Trial 55 finished with value: 1.4720973640251975 and parameters: {'lambda': 0.09209854695929892, 'learning_rate': 0.1485352595171972, 'max_depth': 8, 'gamma': 1.509895017702502}. Best is trial 51 with value: 1.1758238181022274.\u001b[0m\n",
      "\u001b[32m[I 2022-06-29 17:36:17,201]\u001b[0m Trial 56 finished with value: 1.2482252089929853 and parameters: {'lambda': 0.016150693739481234, 'learning_rate': 0.1229718762820873, 'max_depth': 10, 'gamma': 1.6210777276567643}. Best is trial 51 with value: 1.1758238181022274.\u001b[0m\n",
      "\u001b[32m[I 2022-06-29 17:36:20,259]\u001b[0m Trial 57 finished with value: 1.7771266584475043 and parameters: {'lambda': 0.0002496492935637054, 'learning_rate': 0.16822591563379696, 'max_depth': 6, 'gamma': 1.8399775130324123}. Best is trial 51 with value: 1.1758238181022274.\u001b[0m\n",
      "\u001b[32m[I 2022-06-29 17:36:33,228]\u001b[0m Trial 58 finished with value: 1.209844804549293 and parameters: {'lambda': 0.001871288528631109, 'learning_rate': 0.15452792368379203, 'max_depth': 11, 'gamma': 1.3071854376217662}. Best is trial 51 with value: 1.1758238181022274.\u001b[0m\n"
     ]
    },
    {
     "name": "stdout",
     "output_type": "stream",
     "text": [
      "Number of finished trials:  59\n",
      "Best trial:\n",
      "  Value: 1.1758238181022274\n",
      "  Params: \n",
      "    lambda: 0.02202645400480881\n",
      "    learning_rate: 0.15980545084240536\n",
      "    max_depth: 11\n",
      "    gamma: 1.091827352641474\n"
     ]
    }
   ],
   "source": [
    "study = optuna.create_study(direction=\"minimize\")\n",
    "study.optimize(objective, n_trials=100, timeout=600)\n",
    "\n",
    "print(\"Number of finished trials: \", len(study.trials))\n",
    "print(\"Best trial:\")\n",
    "trial = study.best_trial\n",
    "\n",
    "print(\"  Value: {}\".format(trial.value))\n",
    "print(\"  Params: \")\n",
    "for key, value in trial.params.items():\n",
    "    print(\"    {}: {}\".format(key, value))"
   ]
  },
  {
   "cell_type": "markdown",
   "metadata": {
    "pycharm": {
     "name": "#%% md\n"
    }
   },
   "source": [
    "#### Final model\n",
    "As we can see, the XGBoost model with the parameters searched with optuna gave us the best results, and it also runs much faster than the Random Forest model fitting. We see this as an absolute win."
   ]
  },
  {
   "cell_type": "code",
   "execution_count": 35,
   "metadata": {
    "pycharm": {
     "name": "#%%\n"
    }
   },
   "outputs": [
    {
     "data": {
      "text/plain": [
       "1.1758238181022274"
      ]
     },
     "execution_count": 35,
     "metadata": {},
     "output_type": "execute_result"
    }
   ],
   "source": [
    "parameters = {\n",
    "    'lambda': 0.02202645400480881,\n",
    "    'learning_rate': 0.15980545084240536,\n",
    "    'max_depth': 11,\n",
    "    'gamma': 1.091827352641474,\n",
    "}\n",
    "xgb = XGBRegressor(**parameters)\n",
    "xgb.fit(train_features, train_targets)\n",
    "mae_score(xgb, dev_features, dev_targets)"
   ]
  },
  {
   "cell_type": "markdown",
   "metadata": {},
   "source": [
    "Here we calculate the mean absolute error of our final model, as if the data range was [-1,1]:"
   ]
  },
  {
   "cell_type": "code",
   "execution_count": 51,
   "metadata": {},
   "outputs": [
    {
     "data": {
      "text/plain": [
       "0.01914676017221333"
      ]
     },
     "execution_count": 51,
     "metadata": {},
     "output_type": "execute_result"
    }
   ],
   "source": [
    "parameters = {\n",
    "    'lambda': 0.02202645400480881,\n",
    "    'learning_rate': 0.15980545084240536,\n",
    "    'max_depth': 11,\n",
    "    'gamma': 1.091827352641474,\n",
    "}\n",
    "xgb = XGBRegressor(**parameters)\n",
    "xgb.fit(train_features, train_targets)\n",
    "mae_score_normalized(xgb, dev_features, dev_targets)\n",
    "\n",
    "\n",
    "\n",
    "\n"
   ]
  }
 ],
 "metadata": {
  "interpreter": {
   "hash": "01d1552cfc4a95ae150f9159b5c0cac3bff0fd2d965773b3cea68fa3ffebe137"
  },
  "kernelspec": {
   "display_name": "Python 3 (ipykernel)",
   "language": "python",
   "name": "python3"
  },
  "language_info": {
   "codemirror_mode": {
    "name": "ipython",
    "version": 3
   },
   "file_extension": ".py",
   "mimetype": "text/x-python",
   "name": "python",
   "nbconvert_exporter": "python",
   "pygments_lexer": "ipython3",
   "version": "3.9.12"
  }
 },
 "nbformat": 4,
 "nbformat_minor": 4
}
